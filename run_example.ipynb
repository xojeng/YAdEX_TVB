{
 "cells": [
  {
   "cell_type": "code",
   "execution_count": 5,
   "metadata": {
    "collapsed": true
   },
   "outputs": [],
   "source": [
    "# from tvb_model_reference.simulation_file.impact_noise.parameter_Matteo_original import Parameter\n",
    "# from tvb_model_reference.simulation_file.impact_noise.parameter_TVB import Parameter\n",
    "# from tvb_model_reference.simulation_file.impact_noise.parameter_TVB_bistable import Parameter\n",
    "from tvb_model_reference.simulation_file.impact_noise.parameter_TVB_bistable_test_noise import Parameter\n",
    "import tvb_model_reference.src.tools_simulation as tools\n",
    "import matplotlib.pyplot as plt\n",
    "import copy"
   ]
  },
  {
   "cell_type": "code",
   "execution_count": 6,
   "outputs": [],
   "source": [
    "parameters = Parameter()\n",
    "parameters.parameter_simulation['path_result'] = 'tvb_model_reference/simulation_file/impact_noise/result/test_jupyter/'\n",
    "# tools.print_bistability(parameters.parameter_model,show=False)\n",
    "run_sim = 14999.0"
   ],
   "metadata": {
    "collapsed": false,
    "pycharm": {
     "name": "#%%\n"
    }
   }
  },
  {
   "cell_type": "code",
   "execution_count": 7,
   "outputs": [],
   "source": [
    "simulator = tools.init(parameters.parameter_simulation,\n",
    "                              parameters.parameter_model,\n",
    "                              parameters.parameter_connection_between_region,\n",
    "                              parameters.parameter_coupling,\n",
    "                              parameters.parameter_integrator,\n",
    "                              parameters.parameter_monitor)"
   ],
   "metadata": {
    "collapsed": false,
    "pycharm": {
     "name": "#%%\n"
    }
   }
  },
  {
   "cell_type": "code",
   "execution_count": 8,
   "outputs": [
    {
     "name": "stdout",
     "output_type": "stream",
     "text": [
      "simulation time :1000.0\r\n"
     ]
    },
    {
     "ename": "KeyboardInterrupt",
     "evalue": "",
     "output_type": "error",
     "traceback": [
      "\u001B[0;31m---------------------------------------------------------------------------\u001B[0m",
      "\u001B[0;31mKeyboardInterrupt\u001B[0m                         Traceback (most recent call last)",
      "\u001B[0;32m<ipython-input-8-50c394b705e5>\u001B[0m in \u001B[0;36m<module>\u001B[0;34m\u001B[0m\n\u001B[1;32m      2\u001B[0m                             \u001B[0mrun_sim\u001B[0m\u001B[0;34m,\u001B[0m\u001B[0;34m\u001B[0m\u001B[0;34m\u001B[0m\u001B[0m\n\u001B[1;32m      3\u001B[0m                             \u001B[0mparameters\u001B[0m\u001B[0;34m.\u001B[0m\u001B[0mparameter_simulation\u001B[0m\u001B[0;34m,\u001B[0m\u001B[0;34m\u001B[0m\u001B[0;34m\u001B[0m\u001B[0m\n\u001B[0;32m----> 4\u001B[0;31m                             parameters.parameter_monitor)\n\u001B[0m",
      "\u001B[0;32m~/Documents/project/Zerlaut/YAdEX_TVB/tvb_model_reference/src/tools_simulation.py\u001B[0m in \u001B[0;36mrun_simulation\u001B[0;34m(simulator, time, parameter_simulation, parameter_monitor)\u001B[0m\n\u001B[1;32m    249\u001B[0m     \u001B[0;31m# run the simulation\u001B[0m\u001B[0;34m\u001B[0m\u001B[0;34m\u001B[0m\u001B[0;34m\u001B[0m\u001B[0m\n\u001B[1;32m    250\u001B[0m     \u001B[0mcount\u001B[0m \u001B[0;34m=\u001B[0m \u001B[0;36m0\u001B[0m\u001B[0;34m\u001B[0m\u001B[0;34m\u001B[0m\u001B[0m\n\u001B[0;32m--> 251\u001B[0;31m     \u001B[0;32mfor\u001B[0m \u001B[0mresult\u001B[0m \u001B[0;32min\u001B[0m \u001B[0msimulator\u001B[0m\u001B[0;34m(\u001B[0m\u001B[0msimulation_length\u001B[0m\u001B[0;34m=\u001B[0m\u001B[0mtime\u001B[0m\u001B[0;34m)\u001B[0m\u001B[0;34m:\u001B[0m\u001B[0;34m\u001B[0m\u001B[0;34m\u001B[0m\u001B[0m\n\u001B[0m\u001B[1;32m    252\u001B[0m         \u001B[0;32mfor\u001B[0m \u001B[0mi\u001B[0m \u001B[0;32min\u001B[0m \u001B[0mrange\u001B[0m\u001B[0;34m(\u001B[0m\u001B[0mnb_monitor\u001B[0m\u001B[0;34m)\u001B[0m\u001B[0;34m:\u001B[0m\u001B[0;34m\u001B[0m\u001B[0;34m\u001B[0m\u001B[0m\n\u001B[1;32m    253\u001B[0m             \u001B[0;32mif\u001B[0m \u001B[0mresult\u001B[0m\u001B[0;34m[\u001B[0m\u001B[0mi\u001B[0m\u001B[0;34m]\u001B[0m \u001B[0;32mis\u001B[0m \u001B[0;32mnot\u001B[0m \u001B[0;32mNone\u001B[0m\u001B[0;34m:\u001B[0m\u001B[0;34m\u001B[0m\u001B[0;34m\u001B[0m\u001B[0m\n",
      "\u001B[0;32m~/Documents/project/co_simulation/compare_zerlaut/venv/lib/python3.6/site-packages/tvb/simulator/simulator.py\u001B[0m in \u001B[0;36m__call__\u001B[0;34m(self, simulation_length, random_state)\u001B[0m\n\u001B[1;32m    394\u001B[0m             \u001B[0mnode_coupling\u001B[0m \u001B[0;34m=\u001B[0m \u001B[0mself\u001B[0m\u001B[0;34m.\u001B[0m\u001B[0m_loop_compute_node_coupling\u001B[0m\u001B[0;34m(\u001B[0m\u001B[0mstep\u001B[0m\u001B[0;34m)\u001B[0m\u001B[0;34m\u001B[0m\u001B[0;34m\u001B[0m\u001B[0m\n\u001B[1;32m    395\u001B[0m             \u001B[0mself\u001B[0m\u001B[0;34m.\u001B[0m\u001B[0m_loop_update_stimulus\u001B[0m\u001B[0;34m(\u001B[0m\u001B[0mstep\u001B[0m\u001B[0;34m,\u001B[0m \u001B[0mstimulus\u001B[0m\u001B[0;34m)\u001B[0m\u001B[0;34m\u001B[0m\u001B[0;34m\u001B[0m\u001B[0m\n\u001B[0;32m--> 396\u001B[0;31m             \u001B[0mstate\u001B[0m \u001B[0;34m=\u001B[0m \u001B[0mself\u001B[0m\u001B[0;34m.\u001B[0m\u001B[0mintegrator\u001B[0m\u001B[0;34m.\u001B[0m\u001B[0mscheme\u001B[0m\u001B[0;34m(\u001B[0m\u001B[0mstate\u001B[0m\u001B[0;34m,\u001B[0m \u001B[0mself\u001B[0m\u001B[0;34m.\u001B[0m\u001B[0mmodel\u001B[0m\u001B[0;34m.\u001B[0m\u001B[0mdfun\u001B[0m\u001B[0;34m,\u001B[0m \u001B[0mnode_coupling\u001B[0m\u001B[0;34m,\u001B[0m \u001B[0mlocal_coupling\u001B[0m\u001B[0;34m,\u001B[0m \u001B[0mstimulus\u001B[0m\u001B[0;34m)\u001B[0m\u001B[0;34m\u001B[0m\u001B[0;34m\u001B[0m\u001B[0m\n\u001B[0m\u001B[1;32m    397\u001B[0m             \u001B[0mself\u001B[0m\u001B[0;34m.\u001B[0m\u001B[0m_loop_update_history\u001B[0m\u001B[0;34m(\u001B[0m\u001B[0mstep\u001B[0m\u001B[0;34m,\u001B[0m \u001B[0mn_reg\u001B[0m\u001B[0;34m,\u001B[0m \u001B[0mstate\u001B[0m\u001B[0;34m)\u001B[0m\u001B[0;34m\u001B[0m\u001B[0;34m\u001B[0m\u001B[0m\n\u001B[1;32m    398\u001B[0m             \u001B[0moutput\u001B[0m \u001B[0;34m=\u001B[0m \u001B[0mself\u001B[0m\u001B[0;34m.\u001B[0m\u001B[0m_loop_monitor_output\u001B[0m\u001B[0;34m(\u001B[0m\u001B[0mstep\u001B[0m\u001B[0;34m,\u001B[0m \u001B[0mstate\u001B[0m\u001B[0;34m)\u001B[0m\u001B[0;34m\u001B[0m\u001B[0;34m\u001B[0m\u001B[0m\n",
      "\u001B[0;32m~/Documents/project/co_simulation/compare_zerlaut/venv/lib/python3.6/site-packages/tvb/simulator/integrators.py\u001B[0m in \u001B[0;36mscheme\u001B[0;34m(self, X, dfun, coupling, local_coupling, stimulus)\u001B[0m\n\u001B[1;32m    248\u001B[0m             \u001B[0mself\u001B[0m\u001B[0;34m.\u001B[0m\u001B[0mclamp_state\u001B[0m\u001B[0;34m(\u001B[0m\u001B[0minter\u001B[0m\u001B[0;34m)\u001B[0m\u001B[0;34m\u001B[0m\u001B[0;34m\u001B[0m\u001B[0m\n\u001B[1;32m    249\u001B[0m \u001B[0;34m\u001B[0m\u001B[0m\n\u001B[0;32m--> 250\u001B[0;31m         \u001B[0mdX\u001B[0m \u001B[0;34m=\u001B[0m \u001B[0;34m(\u001B[0m\u001B[0mm_dx_tn\u001B[0m \u001B[0;34m+\u001B[0m \u001B[0mdfun\u001B[0m\u001B[0;34m(\u001B[0m\u001B[0minter\u001B[0m\u001B[0;34m,\u001B[0m \u001B[0mcoupling\u001B[0m\u001B[0;34m,\u001B[0m \u001B[0mlocal_coupling\u001B[0m\u001B[0;34m)\u001B[0m\u001B[0;34m)\u001B[0m \u001B[0;34m*\u001B[0m \u001B[0mself\u001B[0m\u001B[0;34m.\u001B[0m\u001B[0mdt\u001B[0m \u001B[0;34m/\u001B[0m \u001B[0;36m2.0\u001B[0m\u001B[0;34m\u001B[0m\u001B[0;34m\u001B[0m\u001B[0m\n\u001B[0m\u001B[1;32m    251\u001B[0m \u001B[0;34m\u001B[0m\u001B[0m\n\u001B[1;32m    252\u001B[0m         \u001B[0mX_next\u001B[0m \u001B[0;34m=\u001B[0m \u001B[0mX\u001B[0m \u001B[0;34m+\u001B[0m \u001B[0mdX\u001B[0m \u001B[0;34m+\u001B[0m \u001B[0mnoise\u001B[0m \u001B[0;34m+\u001B[0m \u001B[0mself\u001B[0m\u001B[0;34m.\u001B[0m\u001B[0mdt\u001B[0m \u001B[0;34m*\u001B[0m \u001B[0mstimulus\u001B[0m\u001B[0;34m\u001B[0m\u001B[0;34m\u001B[0m\u001B[0m\n",
      "\u001B[0;32m~/Documents/project/Zerlaut/YAdEX_TVB/tvb_model_reference/src/Zerlaut.py\u001B[0m in \u001B[0;36mdfun\u001B[0;34m(self, state_variables, coupling, local_coupling)\u001B[0m\n\u001B[1;32m    737\u001B[0m                          \u001B[0;34m+\u001B[0m \u001B[0;36m.5\u001B[0m\u001B[0;34m*\u001B[0m\u001B[0mC_ei\u001B[0m\u001B[0;34m*\u001B[0m\u001B[0m_diff2_fe_fi\u001B[0m\u001B[0;34m(\u001B[0m\u001B[0mself\u001B[0m\u001B[0;34m.\u001B[0m\u001B[0mTF_excitatory\u001B[0m\u001B[0;34m,\u001B[0m \u001B[0mE\u001B[0m\u001B[0;34m,\u001B[0m \u001B[0mI\u001B[0m\u001B[0;34m,\u001B[0m \u001B[0mE_input_excitatory\u001B[0m\u001B[0;34m,\u001B[0m \u001B[0mI_input_excitatory\u001B[0m\u001B[0;34m,\u001B[0m \u001B[0mW_e\u001B[0m\u001B[0;34m)\u001B[0m\u001B[0;34m\u001B[0m\u001B[0;34m\u001B[0m\u001B[0m\n\u001B[1;32m    738\u001B[0m                          \u001B[0;34m+\u001B[0m \u001B[0;36m.5\u001B[0m\u001B[0;34m*\u001B[0m\u001B[0mC_ei\u001B[0m\u001B[0;34m*\u001B[0m\u001B[0m_diff2_fi_fe\u001B[0m\u001B[0;34m(\u001B[0m\u001B[0mself\u001B[0m\u001B[0;34m.\u001B[0m\u001B[0mTF_excitatory\u001B[0m\u001B[0;34m,\u001B[0m \u001B[0mE\u001B[0m\u001B[0;34m,\u001B[0m \u001B[0mI\u001B[0m\u001B[0;34m,\u001B[0m \u001B[0mE_input_excitatory\u001B[0m\u001B[0;34m,\u001B[0m \u001B[0mI_input_excitatory\u001B[0m\u001B[0;34m,\u001B[0m \u001B[0mW_e\u001B[0m\u001B[0;34m)\u001B[0m\u001B[0;34m\u001B[0m\u001B[0;34m\u001B[0m\u001B[0m\n\u001B[0;32m--> 739\u001B[0;31m                          \u001B[0;34m+\u001B[0m \u001B[0;36m.5\u001B[0m\u001B[0;34m*\u001B[0m\u001B[0mC_ii\u001B[0m\u001B[0;34m*\u001B[0m\u001B[0m_diff2_fi_fi_e\u001B[0m\u001B[0;34m(\u001B[0m \u001B[0mE\u001B[0m\u001B[0;34m,\u001B[0m \u001B[0mI\u001B[0m\u001B[0;34m,\u001B[0m \u001B[0mE_input_excitatory\u001B[0m\u001B[0;34m,\u001B[0m \u001B[0mI_input_excitatory\u001B[0m\u001B[0;34m,\u001B[0m \u001B[0mW_e\u001B[0m\u001B[0;34m)\u001B[0m\u001B[0;34m\u001B[0m\u001B[0;34m\u001B[0m\u001B[0m\n\u001B[0m\u001B[1;32m    740\u001B[0m                          )/self.T\n\u001B[1;32m    741\u001B[0m         \u001B[0;31m# Inhibitory firing rate derivation\u001B[0m\u001B[0;34m\u001B[0m\u001B[0;34m\u001B[0m\u001B[0;34m\u001B[0m\u001B[0m\n",
      "\u001B[0;32m~/Documents/project/Zerlaut/YAdEX_TVB/tvb_model_reference/src/Zerlaut.py\u001B[0m in \u001B[0;36m_diff2_fe_fi\u001B[0;34m(TF, fe, fi, fe_ext, fi_ext, W, df)\u001B[0m\n\u001B[1;32m    714\u001B[0m \u001B[0;34m\u001B[0m\u001B[0m\n\u001B[1;32m    715\u001B[0m         \u001B[0;32mdef\u001B[0m \u001B[0m_diff2_fe_fi\u001B[0m\u001B[0;34m(\u001B[0m\u001B[0mTF\u001B[0m\u001B[0;34m,\u001B[0m \u001B[0mfe\u001B[0m\u001B[0;34m,\u001B[0m \u001B[0mfi\u001B[0m\u001B[0;34m,\u001B[0m \u001B[0mfe_ext\u001B[0m\u001B[0;34m,\u001B[0m \u001B[0mfi_ext\u001B[0m\u001B[0;34m,\u001B[0m \u001B[0mW\u001B[0m\u001B[0;34m,\u001B[0m \u001B[0mdf\u001B[0m\u001B[0;34m=\u001B[0m\u001B[0mdf\u001B[0m\u001B[0;34m)\u001B[0m\u001B[0;34m:\u001B[0m\u001B[0;34m\u001B[0m\u001B[0;34m\u001B[0m\u001B[0m\n\u001B[0;32m--> 716\u001B[0;31m             \u001B[0;32mreturn\u001B[0m \u001B[0;34m(\u001B[0m\u001B[0m_diff_fe\u001B[0m\u001B[0;34m(\u001B[0m\u001B[0mTF\u001B[0m\u001B[0;34m,\u001B[0m \u001B[0mfe\u001B[0m\u001B[0;34m,\u001B[0m \u001B[0mfi\u001B[0m\u001B[0;34m+\u001B[0m\u001B[0mdf\u001B[0m\u001B[0;34m,\u001B[0m \u001B[0mfe_ext\u001B[0m\u001B[0;34m,\u001B[0m \u001B[0mfi_ext\u001B[0m\u001B[0;34m,\u001B[0m \u001B[0mW\u001B[0m\u001B[0;34m)\u001B[0m\u001B[0;34m-\u001B[0m\u001B[0m_diff_fe\u001B[0m\u001B[0;34m(\u001B[0m\u001B[0mTF\u001B[0m\u001B[0;34m,\u001B[0m \u001B[0mfe\u001B[0m\u001B[0;34m,\u001B[0m \u001B[0mfi\u001B[0m\u001B[0;34m-\u001B[0m\u001B[0mdf\u001B[0m\u001B[0;34m,\u001B[0m \u001B[0mfe_ext\u001B[0m\u001B[0;34m,\u001B[0m \u001B[0mfi_ext\u001B[0m\u001B[0;34m,\u001B[0m \u001B[0mW\u001B[0m\u001B[0;34m)\u001B[0m\u001B[0;34m)\u001B[0m\u001B[0;34m/\u001B[0m\u001B[0;34m(\u001B[0m\u001B[0;36m2\u001B[0m\u001B[0;34m*\u001B[0m\u001B[0mdf\u001B[0m\u001B[0;34m*\u001B[0m\u001B[0;36m1e3\u001B[0m\u001B[0;34m)\u001B[0m\u001B[0;34m\u001B[0m\u001B[0;34m\u001B[0m\u001B[0m\n\u001B[0m\u001B[1;32m    717\u001B[0m \u001B[0;34m\u001B[0m\u001B[0m\n\u001B[1;32m    718\u001B[0m         \u001B[0;32mdef\u001B[0m \u001B[0m_diff2_fi_fi_e\u001B[0m\u001B[0;34m(\u001B[0m\u001B[0mfe\u001B[0m\u001B[0;34m,\u001B[0m \u001B[0mfi\u001B[0m\u001B[0;34m,\u001B[0m \u001B[0mfe_ext\u001B[0m\u001B[0;34m,\u001B[0m \u001B[0mfi_ext\u001B[0m\u001B[0;34m,\u001B[0m \u001B[0mW\u001B[0m\u001B[0;34m,\u001B[0m \u001B[0mdf\u001B[0m\u001B[0;34m=\u001B[0m\u001B[0mdf\u001B[0m\u001B[0;34m)\u001B[0m\u001B[0;34m:\u001B[0m\u001B[0;34m\u001B[0m\u001B[0;34m\u001B[0m\u001B[0m\n",
      "\u001B[0;32m~/Documents/project/Zerlaut/YAdEX_TVB/tvb_model_reference/src/Zerlaut.py\u001B[0m in \u001B[0;36m_diff_fe\u001B[0;34m(TF, fe, fi, fe_ext, fi_ext, W, df)\u001B[0m\n\u001B[1;32m    697\u001B[0m         \u001B[0mdf\u001B[0m \u001B[0;34m=\u001B[0m \u001B[0;36m1e-7\u001B[0m\u001B[0;34m\u001B[0m\u001B[0;34m\u001B[0m\u001B[0m\n\u001B[1;32m    698\u001B[0m         \u001B[0;32mdef\u001B[0m \u001B[0m_diff_fe\u001B[0m\u001B[0;34m(\u001B[0m\u001B[0mTF\u001B[0m\u001B[0;34m,\u001B[0m \u001B[0mfe\u001B[0m\u001B[0;34m,\u001B[0m \u001B[0mfi\u001B[0m\u001B[0;34m,\u001B[0m \u001B[0mfe_ext\u001B[0m\u001B[0;34m,\u001B[0m \u001B[0mfi_ext\u001B[0m\u001B[0;34m,\u001B[0m \u001B[0mW\u001B[0m\u001B[0;34m,\u001B[0m \u001B[0mdf\u001B[0m\u001B[0;34m=\u001B[0m\u001B[0mdf\u001B[0m\u001B[0;34m)\u001B[0m\u001B[0;34m:\u001B[0m\u001B[0;34m\u001B[0m\u001B[0;34m\u001B[0m\u001B[0m\n\u001B[0;32m--> 699\u001B[0;31m             \u001B[0;32mreturn\u001B[0m \u001B[0;34m(\u001B[0m\u001B[0mTF\u001B[0m\u001B[0;34m(\u001B[0m\u001B[0mfe\u001B[0m\u001B[0;34m+\u001B[0m\u001B[0mdf\u001B[0m\u001B[0;34m,\u001B[0m \u001B[0mfi\u001B[0m\u001B[0;34m,\u001B[0m \u001B[0mfe_ext\u001B[0m\u001B[0;34m,\u001B[0m \u001B[0mfi_ext\u001B[0m\u001B[0;34m,\u001B[0m \u001B[0mW\u001B[0m\u001B[0;34m)\u001B[0m\u001B[0;34m-\u001B[0m\u001B[0mTF\u001B[0m\u001B[0;34m(\u001B[0m\u001B[0mfe\u001B[0m\u001B[0;34m-\u001B[0m\u001B[0mdf\u001B[0m\u001B[0;34m,\u001B[0m \u001B[0mfi\u001B[0m\u001B[0;34m,\u001B[0m \u001B[0mfe_ext\u001B[0m\u001B[0;34m,\u001B[0m \u001B[0mfi_ext\u001B[0m\u001B[0;34m,\u001B[0m \u001B[0mW\u001B[0m\u001B[0;34m)\u001B[0m\u001B[0;34m)\u001B[0m\u001B[0;34m/\u001B[0m\u001B[0;34m(\u001B[0m\u001B[0;36m2\u001B[0m\u001B[0;34m*\u001B[0m\u001B[0mdf\u001B[0m\u001B[0;34m*\u001B[0m\u001B[0;36m1e3\u001B[0m\u001B[0;34m)\u001B[0m\u001B[0;34m\u001B[0m\u001B[0;34m\u001B[0m\u001B[0m\n\u001B[0m\u001B[1;32m    700\u001B[0m \u001B[0;34m\u001B[0m\u001B[0m\n\u001B[1;32m    701\u001B[0m         \u001B[0;32mdef\u001B[0m \u001B[0m_diff_fi\u001B[0m\u001B[0;34m(\u001B[0m\u001B[0mTF\u001B[0m\u001B[0;34m,\u001B[0m \u001B[0mfe\u001B[0m\u001B[0;34m,\u001B[0m \u001B[0mfi\u001B[0m\u001B[0;34m,\u001B[0m \u001B[0mfe_ext\u001B[0m\u001B[0;34m,\u001B[0m \u001B[0mfi_ext\u001B[0m\u001B[0;34m,\u001B[0m \u001B[0mW\u001B[0m\u001B[0;34m,\u001B[0m \u001B[0mdf\u001B[0m\u001B[0;34m=\u001B[0m\u001B[0mdf\u001B[0m\u001B[0;34m)\u001B[0m\u001B[0;34m:\u001B[0m\u001B[0;34m\u001B[0m\u001B[0;34m\u001B[0m\u001B[0m\n",
      "\u001B[0;32m~/Documents/project/Zerlaut/YAdEX_TVB/tvb_model_reference/src/Zerlaut.py\u001B[0m in \u001B[0;36mTF_excitatory\u001B[0;34m(self, fe, fi, fe_ext, fi_ext, W)\u001B[0m\n\u001B[1;32m    414\u001B[0m         \u001B[0;34m:\u001B[0m\u001B[0;32mreturn\u001B[0m\u001B[0;34m:\u001B[0m \u001B[0mresult\u001B[0m \u001B[0mof\u001B[0m \u001B[0mtransfer\u001B[0m \u001B[0mfunction\u001B[0m\u001B[0;34m\u001B[0m\u001B[0;34m\u001B[0m\u001B[0m\n\u001B[1;32m    415\u001B[0m         \"\"\"\n\u001B[0;32m--> 416\u001B[0;31m         \u001B[0;32mreturn\u001B[0m \u001B[0mself\u001B[0m\u001B[0;34m.\u001B[0m\u001B[0mTF\u001B[0m\u001B[0;34m(\u001B[0m\u001B[0mfe\u001B[0m\u001B[0;34m,\u001B[0m \u001B[0mfi\u001B[0m\u001B[0;34m,\u001B[0m \u001B[0mfe_ext\u001B[0m\u001B[0;34m,\u001B[0m \u001B[0mfi_ext\u001B[0m\u001B[0;34m,\u001B[0m \u001B[0mW\u001B[0m\u001B[0;34m,\u001B[0m \u001B[0mself\u001B[0m\u001B[0;34m.\u001B[0m\u001B[0mP_e\u001B[0m\u001B[0;34m,\u001B[0m \u001B[0mself\u001B[0m\u001B[0;34m.\u001B[0m\u001B[0mE_L_e\u001B[0m\u001B[0;34m)\u001B[0m\u001B[0;34m\u001B[0m\u001B[0;34m\u001B[0m\u001B[0m\n\u001B[0m\u001B[1;32m    417\u001B[0m \u001B[0;34m\u001B[0m\u001B[0m\n\u001B[1;32m    418\u001B[0m     \u001B[0;32mdef\u001B[0m \u001B[0mTF_inhibitory\u001B[0m\u001B[0;34m(\u001B[0m\u001B[0mself\u001B[0m\u001B[0;34m,\u001B[0m \u001B[0mfe\u001B[0m\u001B[0;34m,\u001B[0m \u001B[0mfi\u001B[0m\u001B[0;34m,\u001B[0m \u001B[0mfe_ext\u001B[0m\u001B[0;34m,\u001B[0m \u001B[0mfi_ext\u001B[0m\u001B[0;34m,\u001B[0m \u001B[0mW\u001B[0m\u001B[0;34m)\u001B[0m\u001B[0;34m:\u001B[0m\u001B[0;34m\u001B[0m\u001B[0;34m\u001B[0m\u001B[0m\n",
      "\u001B[0;32m~/Documents/project/Zerlaut/YAdEX_TVB/tvb_model_reference/src/Zerlaut.py\u001B[0m in \u001B[0;36mTF\u001B[0;34m(self, fe, fi, fe_ext, fi_ext, W, P, E_L)\u001B[0m\n\u001B[1;32m    445\u001B[0m                                                            \u001B[0mself\u001B[0m\u001B[0;34m.\u001B[0m\u001B[0mQ_i\u001B[0m\u001B[0;34m,\u001B[0m \u001B[0mself\u001B[0m\u001B[0;34m.\u001B[0m\u001B[0mtau_i\u001B[0m\u001B[0;34m,\u001B[0m \u001B[0mself\u001B[0m\u001B[0;34m.\u001B[0m\u001B[0mE_i\u001B[0m\u001B[0;34m,\u001B[0m\u001B[0;34m\u001B[0m\u001B[0;34m\u001B[0m\u001B[0m\n\u001B[1;32m    446\u001B[0m                                                            \u001B[0mself\u001B[0m\u001B[0;34m.\u001B[0m\u001B[0mg_L\u001B[0m\u001B[0;34m,\u001B[0m \u001B[0mself\u001B[0m\u001B[0;34m.\u001B[0m\u001B[0mC_m\u001B[0m\u001B[0;34m,\u001B[0m \u001B[0mE_L\u001B[0m\u001B[0;34m,\u001B[0m \u001B[0mself\u001B[0m\u001B[0;34m.\u001B[0m\u001B[0mN_tot\u001B[0m\u001B[0;34m,\u001B[0m\u001B[0;34m\u001B[0m\u001B[0;34m\u001B[0m\u001B[0m\n\u001B[0;32m--> 447\u001B[0;31m                                                            self.p_connect_e,self.p_connect_i, self.g,self.K_ext_e,self.K_ext_i)\n\u001B[0m\u001B[1;32m    448\u001B[0m         V_thre = self.threshold_func(mu_V, sigma_V, T_V*self.g_L/self.C_m,\n\u001B[1;32m    449\u001B[0m                                      P[0], P[1], P[2], P[3], P[4], P[5], P[6], P[7], P[8], P[9])\n",
      "\u001B[0;32m~/Documents/project/co_simulation/compare_zerlaut/venv/lib/python3.6/site-packages/tvb/basic/neotraits/_attr.py\u001B[0m in \u001B[0;36m__get__\u001B[0;34m(self, instance, owner)\u001B[0m\n\u001B[1;32m    555\u001B[0m     \u001B[0;32mdef\u001B[0m \u001B[0m__get__\u001B[0m\u001B[0;34m(\u001B[0m\u001B[0mself\u001B[0m\u001B[0;34m,\u001B[0m \u001B[0minstance\u001B[0m\u001B[0;34m,\u001B[0m \u001B[0mowner\u001B[0m\u001B[0;34m)\u001B[0m\u001B[0;34m:\u001B[0m\u001B[0;34m\u001B[0m\u001B[0;34m\u001B[0m\u001B[0m\n\u001B[1;32m    556\u001B[0m         \u001B[0;31m# type: (typing.Optional['HasTraits'], 'MetaType') -> typing.Union[numpy.ndarray, 'NArray']\u001B[0m\u001B[0;34m\u001B[0m\u001B[0;34m\u001B[0m\u001B[0;34m\u001B[0m\u001B[0m\n\u001B[0;32m--> 557\u001B[0;31m         \u001B[0;32mreturn\u001B[0m \u001B[0msuper\u001B[0m\u001B[0;34m(\u001B[0m\u001B[0mNArray\u001B[0m\u001B[0;34m,\u001B[0m \u001B[0mself\u001B[0m\u001B[0;34m)\u001B[0m\u001B[0;34m.\u001B[0m\u001B[0m__get__\u001B[0m\u001B[0;34m(\u001B[0m\u001B[0minstance\u001B[0m\u001B[0;34m,\u001B[0m \u001B[0mowner\u001B[0m\u001B[0;34m)\u001B[0m\u001B[0;34m\u001B[0m\u001B[0;34m\u001B[0m\u001B[0m\n\u001B[0m\u001B[1;32m    558\u001B[0m \u001B[0;34m\u001B[0m\u001B[0m\n\u001B[1;32m    559\u001B[0m     \u001B[0;32mdef\u001B[0m \u001B[0m__set__\u001B[0m\u001B[0;34m(\u001B[0m\u001B[0mself\u001B[0m\u001B[0;34m,\u001B[0m \u001B[0minstance\u001B[0m\u001B[0;34m,\u001B[0m \u001B[0mvalue\u001B[0m\u001B[0;34m)\u001B[0m\u001B[0;34m:\u001B[0m\u001B[0;34m\u001B[0m\u001B[0;34m\u001B[0m\u001B[0m\n",
      "\u001B[0;32m~/Documents/project/co_simulation/compare_zerlaut/venv/lib/python3.6/site-packages/tvb/basic/neotraits/_attr.py\u001B[0m in \u001B[0;36m__get__\u001B[0;34m(self, instance, owner)\u001B[0m\n\u001B[1;32m    165\u001B[0m             \u001B[0minstance\u001B[0m\u001B[0;34m.\u001B[0m\u001B[0m__dict__\u001B[0m\u001B[0;34m[\u001B[0m\u001B[0mself\u001B[0m\u001B[0;34m.\u001B[0m\u001B[0mfield_name\u001B[0m\u001B[0;34m]\u001B[0m \u001B[0;34m=\u001B[0m \u001B[0mdefault\u001B[0m\u001B[0;34m\u001B[0m\u001B[0;34m\u001B[0m\u001B[0m\n\u001B[1;32m    166\u001B[0m \u001B[0;34m\u001B[0m\u001B[0m\n\u001B[0;32m--> 167\u001B[0;31m         \u001B[0mvalue\u001B[0m \u001B[0;34m=\u001B[0m \u001B[0minstance\u001B[0m\u001B[0;34m.\u001B[0m\u001B[0m__dict__\u001B[0m\u001B[0;34m[\u001B[0m\u001B[0mself\u001B[0m\u001B[0;34m.\u001B[0m\u001B[0mfield_name\u001B[0m\u001B[0;34m]\u001B[0m\u001B[0;34m\u001B[0m\u001B[0;34m\u001B[0m\u001B[0m\n\u001B[0m\u001B[1;32m    168\u001B[0m         \u001B[0;32mif\u001B[0m \u001B[0mself\u001B[0m\u001B[0;34m.\u001B[0m\u001B[0mrequired\u001B[0m \u001B[0;32mand\u001B[0m \u001B[0mvalue\u001B[0m \u001B[0;32mis\u001B[0m \u001B[0;32mNone\u001B[0m\u001B[0;34m:\u001B[0m\u001B[0;34m\u001B[0m\u001B[0;34m\u001B[0m\u001B[0m\n\u001B[1;32m    169\u001B[0m             raise TraitAttributeError('required attribute referenced before assignment. '\n",
      "\u001B[0;31mKeyboardInterrupt\u001B[0m: "
     ]
    }
   ],
   "source": [
    "tools.run_simulation(simulator,\n",
    "                            run_sim,\n",
    "                            parameters.parameter_simulation,\n",
    "                            parameters.parameter_monitor)"
   ],
   "metadata": {
    "collapsed": false,
    "pycharm": {
     "name": "#%%\n"
    }
   }
  },
  {
   "cell_type": "code",
   "execution_count": null,
   "outputs": [],
   "source": [
    "result = tools.get_result(parameters.parameter_simulation['path_result'],-1.0,run_sim)\n",
    "ax0 = plt.subplot(221)\n",
    "ax0.plot(result[0][0]*1e-3,result[0][1][:,0,0]*1e3)\n",
    "ax0.plot(result[0][0]*1e-3,result[0][1][:,1,0]*1e3)\n",
    "ax0.set_title('firing rate')\n",
    "ax0.set_xlabel('time in s')\n",
    "ax0.set_ylabel('Mean firing rate in Hz')\n",
    "ax1 = plt.subplot(222)\n",
    "ax1.plot(result[0][0]*1e-3,result[0][1][:,5,0])\n",
    "ax1.set_title('adaptation rate')\n",
    "ax1.set_xlabel('time in s')\n",
    "ax1.set_ylabel('nA')\n",
    "ax2 = plt.subplot(223)\n",
    "ax2.plot(result[0][0]*1e-3,(result[0][1][:,7,0]*parameters.parameter_model['weight_noise']+parameters.parameter_model['external_input_ex_ex'])*1e3)\n",
    "ax2.set_title('noise')\n",
    "ax2.set_xlabel('time in s')\n",
    "ax2.set_ylabel('Hz ')\n",
    "plt.show()\n"
   ],
   "metadata": {
    "collapsed": false,
    "pycharm": {
     "name": "#%%\n"
    }
   }
  }
 ],
 "metadata": {
  "kernelspec": {
   "display_name": "Python 3",
   "language": "python",
   "name": "python3"
  },
  "language_info": {
   "codemirror_mode": {
    "name": "ipython",
    "version": 2
   },
   "file_extension": ".py",
   "mimetype": "text/x-python",
   "name": "python",
   "nbconvert_exporter": "python",
   "pygments_lexer": "ipython2",
   "version": "2.7.6"
  }
 },
 "nbformat": 4,
 "nbformat_minor": 0
}